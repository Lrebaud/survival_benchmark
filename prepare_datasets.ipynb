{
 "cells": [
  {
   "cell_type": "code",
   "execution_count": 1,
   "id": "112b471a",
   "metadata": {},
   "outputs": [],
   "source": [
    "MIN_NB_NON_CENSORED = 40"
   ]
  },
  {
   "cell_type": "code",
   "execution_count": 8,
   "id": "79f42bf8-c7c3-4300-95d3-9668d3851345",
   "metadata": {},
   "outputs": [],
   "source": [
    "import os\n",
    "os.makedirs('datasets', exist_ok=True)"
   ]
  },
  {
   "cell_type": "markdown",
   "id": "02e0b72a",
   "metadata": {},
   "source": [
    "# SurvSet"
   ]
  },
  {
   "cell_type": "code",
   "execution_count": 3,
   "id": "0c5a4d0b",
   "metadata": {},
   "outputs": [
    {
     "data": {
      "text/html": [
       "<div>\n",
       "<style scoped>\n",
       "    .dataframe tbody tr th:only-of-type {\n",
       "        vertical-align: middle;\n",
       "    }\n",
       "\n",
       "    .dataframe tbody tr th {\n",
       "        vertical-align: top;\n",
       "    }\n",
       "\n",
       "    .dataframe thead th {\n",
       "        text-align: right;\n",
       "    }\n",
       "</style>\n",
       "<table border=\"1\" class=\"dataframe\">\n",
       "  <thead>\n",
       "    <tr style=\"text-align: right;\">\n",
       "      <th></th>\n",
       "      <th>ds</th>\n",
       "      <th>is_td</th>\n",
       "      <th>n</th>\n",
       "      <th>n_fac</th>\n",
       "      <th>n_ohe</th>\n",
       "      <th>n_num</th>\n",
       "    </tr>\n",
       "  </thead>\n",
       "  <tbody>\n",
       "    <tr>\n",
       "      <th>0</th>\n",
       "      <td>hdfail</td>\n",
       "      <td>False</td>\n",
       "      <td>52422</td>\n",
       "      <td>5</td>\n",
       "      <td>87</td>\n",
       "      <td>1</td>\n",
       "    </tr>\n",
       "    <tr>\n",
       "      <th>1</th>\n",
       "      <td>stagec</td>\n",
       "      <td>False</td>\n",
       "      <td>146</td>\n",
       "      <td>4</td>\n",
       "      <td>15</td>\n",
       "      <td>3</td>\n",
       "    </tr>\n",
       "    <tr>\n",
       "      <th>2</th>\n",
       "      <td>veteran</td>\n",
       "      <td>False</td>\n",
       "      <td>137</td>\n",
       "      <td>3</td>\n",
       "      <td>5</td>\n",
       "      <td>3</td>\n",
       "    </tr>\n",
       "    <tr>\n",
       "      <th>3</th>\n",
       "      <td>vdv</td>\n",
       "      <td>False</td>\n",
       "      <td>78</td>\n",
       "      <td>0</td>\n",
       "      <td>0</td>\n",
       "      <td>4705</td>\n",
       "    </tr>\n",
       "    <tr>\n",
       "      <th>4</th>\n",
       "      <td>AML_Bull</td>\n",
       "      <td>False</td>\n",
       "      <td>116</td>\n",
       "      <td>0</td>\n",
       "      <td>0</td>\n",
       "      <td>6283</td>\n",
       "    </tr>\n",
       "    <tr>\n",
       "      <th>...</th>\n",
       "      <td>...</td>\n",
       "      <td>...</td>\n",
       "      <td>...</td>\n",
       "      <td>...</td>\n",
       "      <td>...</td>\n",
       "      <td>...</td>\n",
       "    </tr>\n",
       "    <tr>\n",
       "      <th>71</th>\n",
       "      <td>prostate</td>\n",
       "      <td>False</td>\n",
       "      <td>502</td>\n",
       "      <td>6</td>\n",
       "      <td>16</td>\n",
       "      <td>9</td>\n",
       "    </tr>\n",
       "    <tr>\n",
       "      <th>72</th>\n",
       "      <td>flchain</td>\n",
       "      <td>False</td>\n",
       "      <td>7874</td>\n",
       "      <td>4</td>\n",
       "      <td>26</td>\n",
       "      <td>6</td>\n",
       "    </tr>\n",
       "    <tr>\n",
       "      <th>73</th>\n",
       "      <td>grace</td>\n",
       "      <td>False</td>\n",
       "      <td>1000</td>\n",
       "      <td>2</td>\n",
       "      <td>2</td>\n",
       "      <td>3</td>\n",
       "    </tr>\n",
       "    <tr>\n",
       "      <th>74</th>\n",
       "      <td>gse3143</td>\n",
       "      <td>False</td>\n",
       "      <td>158</td>\n",
       "      <td>1</td>\n",
       "      <td>3</td>\n",
       "      <td>8660</td>\n",
       "    </tr>\n",
       "    <tr>\n",
       "      <th>75</th>\n",
       "      <td>scania</td>\n",
       "      <td>False</td>\n",
       "      <td>1931</td>\n",
       "      <td>4</td>\n",
       "      <td>7</td>\n",
       "      <td>1</td>\n",
       "    </tr>\n",
       "  </tbody>\n",
       "</table>\n",
       "<p>69 rows × 6 columns</p>\n",
       "</div>"
      ],
      "text/plain": [
       "          ds  is_td      n  n_fac  n_ohe  n_num\n",
       "0     hdfail  False  52422      5     87      1\n",
       "1     stagec  False    146      4     15      3\n",
       "2    veteran  False    137      3      5      3\n",
       "3        vdv  False     78      0      0   4705\n",
       "4   AML_Bull  False    116      0      0   6283\n",
       "..       ...    ...    ...    ...    ...    ...\n",
       "71  prostate  False    502      6     16      9\n",
       "72   flchain  False   7874      4     26      6\n",
       "73     grace  False   1000      2      2      3\n",
       "74   gse3143  False    158      1      3   8660\n",
       "75    scania  False   1931      4      7      1\n",
       "\n",
       "[69 rows x 6 columns]"
      ]
     },
     "execution_count": 3,
     "metadata": {},
     "output_type": "execute_result"
    }
   ],
   "source": [
    "from SurvSet.data import SurvLoader\n",
    "loader = SurvLoader()\n",
    "# List of available datasets and meta-info\n",
    "df_ds = loader.df_ds\n",
    "df_ds = df_ds[~df_ds['is_td']]\n",
    "df_ds"
   ]
  },
  {
   "cell_type": "code",
   "execution_count": 4,
   "id": "0a51ef74",
   "metadata": {},
   "outputs": [],
   "source": [
    "excluded = [\n",
    "    'hdfail',\n",
    "    'UnempDur',\n",
    "    'divorce',\n",
    "    'Unemployment',\n",
    "    'Rossi',\n",
    "    'oldmort',\n",
    "    'scania',\n",
    "]"
   ]
  },
  {
   "cell_type": "code",
   "execution_count": 9,
   "id": "ed289356",
   "metadata": {
    "scrolled": true
   },
   "outputs": [
    {
     "name": "stderr",
     "output_type": "stream",
     "text": [
      "  0%|                                                                                            | 0/69 [00:00<?, ?it/s]"
     ]
    },
    {
     "name": "stdout",
     "output_type": "stream",
     "text": [
      "stagec 22\n",
      "veteran 11\n"
     ]
    },
    {
     "name": "stderr",
     "output_type": "stream",
     "text": [
      "  6%|████▊                                                                               | 4/69 [00:00<00:14,  4.56it/s]"
     ]
    },
    {
     "name": "stdout",
     "output_type": "stream",
     "text": [
      "skipped vdv\n",
      "AML_Bull 6283\n"
     ]
    },
    {
     "name": "stderr",
     "output_type": "stream",
     "text": [
      "  7%|██████                                                                              | 5/69 [00:02<00:34,  1.85it/s]"
     ]
    },
    {
     "name": "stdout",
     "output_type": "stream",
     "text": [
      "LeukSurv 31\n",
      "zinc 31\n",
      "burn 23\n",
      "nwtco 14\n",
      "rott2 18\n"
     ]
    },
    {
     "name": "stderr",
     "output_type": "stream",
     "text": [
      " 26%|█████████████████████▋                                                             | 18/69 [00:05<00:12,  4.00it/s]"
     ]
    },
    {
     "name": "stdout",
     "output_type": "stream",
     "text": [
      "skipped gse1992\n",
      "FRTCS 17\n",
      "cost 23\n",
      "rdata 8\n",
      "Aids2 15\n",
      "skipped micro.censure\n",
      "cgd 30\n",
      "pharmacoSmoking 23\n",
      "Z243 28\n"
     ]
    },
    {
     "name": "stderr",
     "output_type": "stream",
     "text": [
      " 36%|██████████████████████████████                                                     | 25/69 [00:05<00:06,  6.48it/s]"
     ]
    },
    {
     "name": "stdout",
     "output_type": "stream",
     "text": [
      "skipped NSBCD\n",
      "uis 19\n",
      "Dialysis 74\n",
      "nki70 80\n"
     ]
    },
    {
     "name": "stderr",
     "output_type": "stream",
     "text": [
      " 41%|█████████████████████████████████▋                                                 | 28/69 [00:05<00:05,  8.16it/s]"
     ]
    },
    {
     "name": "stdout",
     "output_type": "stream",
     "text": [
      "Melanoma 7\n",
      "cancer 31\n",
      "TRACE 10\n",
      "skipped gse4335\n",
      "ova 14\n",
      "MCLcleaned 574\n"
     ]
    },
    {
     "name": "stderr",
     "output_type": "stream",
     "text": [
      " 45%|█████████████████████████████████████▎                                             | 31/69 [00:08<00:12,  3.05it/s]"
     ]
    },
    {
     "name": "stdout",
     "output_type": "stream",
     "text": [
      "smarto 43\n",
      "support2 76\n"
     ]
    },
    {
     "name": "stderr",
     "output_type": "stream",
     "text": [
      " 48%|███████████████████████████████████████▋                                           | 33/69 [00:08<00:11,  3.25it/s]"
     ]
    },
    {
     "name": "stdout",
     "output_type": "stream",
     "text": [
      "vlbw 56\n",
      "pbc 11\n",
      "DLBCL 7399\n"
     ]
    },
    {
     "name": "stderr",
     "output_type": "stream",
     "text": [
      " 55%|█████████████████████████████████████████████▋                                     | 38/69 [00:11<00:11,  2.59it/s]"
     ]
    },
    {
     "name": "stdout",
     "output_type": "stream",
     "text": [
      "phpl04K8a 22\n",
      "dataDIVAT3 20\n",
      "dataDIVAT2 7\n",
      "wpbc 32\n",
      "GBSG2 12\n",
      "prostateSurvival 9\n"
     ]
    },
    {
     "name": "stderr",
     "output_type": "stream",
     "text": [
      " 67%|███████████████████████████████████████████████████████▎                           | 46/69 [00:11<00:03,  5.81it/s]"
     ]
    },
    {
     "name": "stdout",
     "output_type": "stream",
     "text": [
      "dataDIVAT1 19\n",
      "e1684 5\n",
      "acath 4\n",
      "Framingham 19\n",
      "colon 19\n",
      "follic 7\n",
      "mgus 14\n",
      "d.oropha.rec 32\n"
     ]
    },
    {
     "name": "stderr",
     "output_type": "stream",
     "text": [
      " 74%|█████████████████████████████████████████████████████████████▎                     | 51/69 [00:12<00:02,  8.85it/s]"
     ]
    },
    {
     "name": "stdout",
     "output_type": "stream",
     "text": [
      "actg 24\n",
      "dataOvarian1 164\n"
     ]
    },
    {
     "name": "stderr",
     "output_type": "stream",
     "text": [
      " 78%|████████████████████████████████████████████████████████████████▉                  | 54/69 [00:12<00:01,  9.38it/s]"
     ]
    },
    {
     "name": "stdout",
     "output_type": "stream",
     "text": [
      "hepatoCellular 56\n",
      "skipped ovarian\n",
      "retinopathy 16\n",
      "Pbc3 24\n",
      "whas500 26\n",
      "DBCD 4919\n"
     ]
    },
    {
     "name": "stderr",
     "output_type": "stream",
     "text": [
      " 84%|█████████████████████████████████████████████████████████████████████▊             | 58/69 [00:14<00:02,  4.21it/s]"
     ]
    },
    {
     "name": "stdout",
     "output_type": "stream",
     "text": [
      "diabetes 7\n",
      "skipped glioma\n",
      "chop 3833\n"
     ]
    },
    {
     "name": "stderr",
     "output_type": "stream",
     "text": [
      " 96%|███████████████████████████████████████████████████████████████████████████████▍   | 66/69 [00:16<00:00,  4.29it/s]"
     ]
    },
    {
     "name": "stdout",
     "output_type": "stream",
     "text": [
      "skipped breast\n",
      "skipped Bergamaschi\n",
      "prostate 31\n",
      "flchain 36\n",
      "grace 7\n",
      "gse3143 8664\n"
     ]
    },
    {
     "name": "stderr",
     "output_type": "stream",
     "text": [
      "100%|███████████████████████████████████████████████████████████████████████████████████| 69/69 [00:19<00:00,  3.62it/s]\n"
     ]
    }
   ],
   "source": [
    "from sklearndf.pipeline import PipelineDF\n",
    "from sklearndf.transformation import OneHotEncoderDF, ColumnTransformerDF, SimpleImputerDF, StandardScalerDF\n",
    "from sklearn.compose import make_column_selector\n",
    "from sksurv.util import Surv\n",
    "import numpy as np\n",
    "import pickle\n",
    "from tqdm import tqdm\n",
    "import pandas as pd\n",
    "\n",
    "\n",
    "for ds in tqdm(df_ds['ds']):\n",
    "    if ds in excluded:\n",
    "        continue\n",
    "    df, _ = loader.load_dataset(ds_name=ds).values()\n",
    "\n",
    "    Xcols = []\n",
    "    for c in df.columns:\n",
    "        if c in ['pid', 'event', 'time']:\n",
    "            continue\n",
    "        if 'num' == c.split('_')[0]:\n",
    "            Xcols.append(df[[c]])\n",
    "        elif 'fac' == c.split('_')[0]:\n",
    "            ohe = pd.get_dummies(df[c]).astype('int8').add_prefix(c.replace('fac_', '')+'_')\n",
    "            Xcols.append(ohe)\n",
    "    X = pd.concat(Xcols, axis=1)\n",
    "    y = Surv.from_arrays(event=np.array(df['event']).astype('bool'), time=df['time'])\n",
    "    \n",
    "    y_non_censored = y[y['event']]\n",
    "    if y_non_censored.shape[0] < MIN_NB_NON_CENSORED:\n",
    "        print('skipped', ds)\n",
    "        continue\n",
    "    print(ds, X.shape[1])\n",
    "    res = {'X': X, 'y': y}\n",
    "    \n",
    "    with open('datasets/SurvSet_'+ds+'.pickle', 'wb') as handle:\n",
    "        pickle.dump(res, handle, protocol=pickle.HIGHEST_PROTOCOL)"
   ]
  },
  {
   "cell_type": "code",
   "execution_count": null,
   "id": "f607c752",
   "metadata": {},
   "outputs": [],
   "source": []
  },
  {
   "cell_type": "markdown",
   "id": "1cadebfd",
   "metadata": {},
   "source": [
    "# TCGA"
   ]
  },
  {
   "cell_type": "code",
   "execution_count": 5,
   "id": "72ba7b0f",
   "metadata": {},
   "outputs": [],
   "source": [
    "from glob import glob\n",
    "import pandas as pd"
   ]
  },
  {
   "cell_type": "code",
   "execution_count": 6,
   "id": "33124ae2",
   "metadata": {},
   "outputs": [],
   "source": [
    "surv = pd.read_excel('/mnt/data/lrebaud/data/TCGA/clinical_TCGA.xlsx')\n",
    "surv.set_index('bcr_patient_barcode', inplace=True)\n",
    "surv = surv[['OS', 'OS.time']]\n",
    "surv = surv.rename(columns={\n",
    "    'OS': 'event',\n",
    "    'OS.time': 'time'\n",
    "})\n",
    "surv = surv.dropna(how='any')"
   ]
  },
  {
   "cell_type": "code",
   "execution_count": 7,
   "id": "6038d340",
   "metadata": {
    "scrolled": true
   },
   "outputs": [
    {
     "name": "stderr",
     "output_type": "stream",
     "text": [
      "\r",
      "  0%|                                                                                                                                                       | 0/33 [00:00<?, ?it/s]"
     ]
    },
    {
     "name": "stdout",
     "output_type": "stream",
     "text": [
      "HNSC\n"
     ]
    },
    {
     "name": "stderr",
     "output_type": "stream",
     "text": [
      "\r",
      "  3%|████▎                                                                                                                                          | 1/33 [00:36<19:31, 36.60s/it]"
     ]
    },
    {
     "name": "stdout",
     "output_type": "stream",
     "text": [
      "DLBC\n"
     ]
    },
    {
     "name": "stderr",
     "output_type": "stream",
     "text": [
      "\r",
      "  6%|████████▋                                                                                                                                      | 2/33 [00:43<09:54, 19.16s/it]"
     ]
    },
    {
     "name": "stdout",
     "output_type": "stream",
     "text": [
      "skipped DLBC\n",
      "PRAD\n"
     ]
    },
    {
     "name": "stderr",
     "output_type": "stream",
     "text": [
      "\r",
      "  9%|█████████████                                                                                                                                  | 3/33 [01:25<14:53, 29.79s/it]"
     ]
    },
    {
     "name": "stdout",
     "output_type": "stream",
     "text": [
      "skipped PRAD\n",
      "UVM\n"
     ]
    },
    {
     "name": "stderr",
     "output_type": "stream",
     "text": [
      "\r",
      " 12%|█████████████████▎                                                                                                                             | 4/33 [01:33<10:10, 21.04s/it]"
     ]
    },
    {
     "name": "stdout",
     "output_type": "stream",
     "text": [
      "skipped UVM\n",
      "LUSC\n"
     ]
    },
    {
     "name": "stderr",
     "output_type": "stream",
     "text": [
      "\r",
      " 15%|█████████████████████▋                                                                                                                         | 5/33 [02:13<13:02, 27.94s/it]"
     ]
    },
    {
     "name": "stdout",
     "output_type": "stream",
     "text": [
      "COAD\n"
     ]
    },
    {
     "name": "stderr",
     "output_type": "stream",
     "text": [
      "\r",
      " 18%|██████████████████████████                                                                                                                     | 6/33 [02:51<14:05, 31.30s/it]"
     ]
    },
    {
     "name": "stdout",
     "output_type": "stream",
     "text": [
      "UCS\n"
     ]
    },
    {
     "name": "stderr",
     "output_type": "stream",
     "text": [
      "\r",
      " 21%|██████████████████████████████▎                                                                                                                | 7/33 [02:58<10:07, 23.38s/it]"
     ]
    },
    {
     "name": "stdout",
     "output_type": "stream",
     "text": [
      "skipped UCS\n",
      "TGCT\n"
     ]
    },
    {
     "name": "stderr",
     "output_type": "stream",
     "text": [
      "\r",
      " 24%|██████████████████████████████████▋                                                                                                            | 8/33 [03:10<08:09, 19.56s/it]"
     ]
    },
    {
     "name": "stdout",
     "output_type": "stream",
     "text": [
      "skipped TGCT\n",
      "STAD\n"
     ]
    },
    {
     "name": "stderr",
     "output_type": "stream",
     "text": [
      "\r",
      " 27%|███████████████████████████████████████                                                                                                        | 9/33 [03:43<09:35, 23.98s/it]"
     ]
    },
    {
     "name": "stdout",
     "output_type": "stream",
     "text": [
      "LAML\n"
     ]
    },
    {
     "name": "stderr",
     "output_type": "stream",
     "text": [
      "\r",
      " 30%|███████████████████████████████████████████                                                                                                   | 10/33 [03:56<07:52, 20.54s/it]"
     ]
    },
    {
     "name": "stdout",
     "output_type": "stream",
     "text": [
      "LGG\n"
     ]
    },
    {
     "name": "stderr",
     "output_type": "stream",
     "text": [
      "\r",
      " 33%|███████████████████████████████████████████████▎                                                                                              | 11/33 [04:33<09:22, 25.56s/it]"
     ]
    },
    {
     "name": "stdout",
     "output_type": "stream",
     "text": [
      "PAAD\n"
     ]
    },
    {
     "name": "stderr",
     "output_type": "stream",
     "text": [
      "\r",
      " 36%|███████████████████████████████████████████████████▋                                                                                          | 12/33 [04:47<07:41, 21.96s/it]"
     ]
    },
    {
     "name": "stdout",
     "output_type": "stream",
     "text": [
      "LUAD\n"
     ]
    },
    {
     "name": "stderr",
     "output_type": "stream",
     "text": [
      "\r",
      " 39%|███████████████████████████████████████████████████████▉                                                                                      | 13/33 [05:30<09:28, 28.44s/it]"
     ]
    },
    {
     "name": "stdout",
     "output_type": "stream",
     "text": [
      "ESCA\n"
     ]
    },
    {
     "name": "stderr",
     "output_type": "stream",
     "text": [
      "\r",
      " 42%|████████████████████████████████████████████████████████████▏                                                                                 | 14/33 [05:45<07:40, 24.26s/it]"
     ]
    },
    {
     "name": "stdout",
     "output_type": "stream",
     "text": [
      "BLCA\n"
     ]
    },
    {
     "name": "stderr",
     "output_type": "stream",
     "text": [
      "\r",
      " 45%|████████████████████████████████████████████████████████████████▌                                                                             | 15/33 [06:18<08:05, 27.00s/it]"
     ]
    },
    {
     "name": "stdout",
     "output_type": "stream",
     "text": [
      "MESO\n"
     ]
    },
    {
     "name": "stderr",
     "output_type": "stream",
     "text": [
      "\r",
      " 48%|████████████████████████████████████████████████████████████████████▊                                                                         | 16/33 [06:26<06:01, 21.28s/it]"
     ]
    },
    {
     "name": "stdout",
     "output_type": "stream",
     "text": [
      "KIRP\n"
     ]
    },
    {
     "name": "stderr",
     "output_type": "stream",
     "text": [
      "\r",
      " 52%|█████████████████████████████████████████████████████████████████████████▏                                                                    | 17/33 [06:47<05:36, 21.02s/it]"
     ]
    },
    {
     "name": "stdout",
     "output_type": "stream",
     "text": [
      "GBM\n"
     ]
    },
    {
     "name": "stderr",
     "output_type": "stream",
     "text": [
      "\r",
      " 55%|█████████████████████████████████████████████████████████████████████████████▍                                                                | 18/33 [07:04<04:58, 19.92s/it]"
     ]
    },
    {
     "name": "stdout",
     "output_type": "stream",
     "text": [
      "PCPG\n"
     ]
    },
    {
     "name": "stderr",
     "output_type": "stream",
     "text": [
      "\r",
      " 58%|█████████████████████████████████████████████████████████████████████████████████▊                                                            | 19/33 [07:16<04:06, 17.61s/it]"
     ]
    },
    {
     "name": "stdout",
     "output_type": "stream",
     "text": [
      "skipped PCPG\n",
      "UCEC\n"
     ]
    },
    {
     "name": "stderr",
     "output_type": "stream",
     "text": [
      "\r",
      " 61%|██████████████████████████████████████████████████████████████████████████████████████                                                        | 20/33 [07:59<05:28, 25.24s/it]"
     ]
    },
    {
     "name": "stdout",
     "output_type": "stream",
     "text": [
      "LIHC\n"
     ]
    },
    {
     "name": "stderr",
     "output_type": "stream",
     "text": [
      "\r",
      " 64%|██████████████████████████████████████████████████████████████████████████████████████████▎                                                   | 21/33 [08:23<04:59, 24.95s/it]"
     ]
    },
    {
     "name": "stdout",
     "output_type": "stream",
     "text": [
      "READ\n"
     ]
    },
    {
     "name": "stderr",
     "output_type": "stream",
     "text": [
      "\r",
      " 67%|██████████████████████████████████████████████████████████████████████████████████████████████▋                                               | 22/33 [08:35<03:50, 20.97s/it]"
     ]
    },
    {
     "name": "stdout",
     "output_type": "stream",
     "text": [
      "skipped READ\n",
      "THCA\n"
     ]
    },
    {
     "name": "stderr",
     "output_type": "stream",
     "text": [
      "\r",
      " 70%|██████████████████████████████████████████████████████████████████████████████████████████████████▉                                           | 23/33 [09:15<04:26, 26.68s/it]"
     ]
    },
    {
     "name": "stdout",
     "output_type": "stream",
     "text": [
      "skipped THCA\n",
      "ACC\n"
     ]
    },
    {
     "name": "stderr",
     "output_type": "stream",
     "text": [
      "\r",
      " 73%|███████████████████████████████████████████████████████████████████████████████████████████████████████▎                                      | 24/33 [09:24<03:13, 21.49s/it]"
     ]
    },
    {
     "name": "stdout",
     "output_type": "stream",
     "text": [
      "skipped ACC\n",
      "BRCA\n"
     ]
    },
    {
     "name": "stderr",
     "output_type": "stream",
     "text": [
      "\r",
      " 76%|███████████████████████████████████████████████████████████████████████████████████████████████████████████▌                                  | 25/33 [10:53<05:34, 41.76s/it]"
     ]
    },
    {
     "name": "stdout",
     "output_type": "stream",
     "text": [
      "SARC\n"
     ]
    },
    {
     "name": "stderr",
     "output_type": "stream",
     "text": [
      "\r",
      " 79%|███████████████████████████████████████████████████████████████████████████████████████████████████████████████▉                              | 26/33 [11:12<04:02, 34.66s/it]"
     ]
    },
    {
     "name": "stdout",
     "output_type": "stream",
     "text": [
      "OV\n"
     ]
    },
    {
     "name": "stderr",
     "output_type": "stream",
     "text": [
      "\r",
      " 82%|████████████████████████████████████████████████████████████████████████████████████████████████████████████████████▏                         | 27/33 [11:39<03:15, 32.55s/it]"
     ]
    },
    {
     "name": "stdout",
     "output_type": "stream",
     "text": [
      "CHOL\n"
     ]
    },
    {
     "name": "stderr",
     "output_type": "stream",
     "text": [
      "\r",
      " 85%|████████████████████████████████████████████████████████████████████████████████████████████████████████████████████████▍                     | 28/33 [11:45<02:02, 24.49s/it]"
     ]
    },
    {
     "name": "stdout",
     "output_type": "stream",
     "text": [
      "skipped CHOL\n",
      "THYM\n"
     ]
    },
    {
     "name": "stderr",
     "output_type": "stream",
     "text": [
      "\r",
      " 88%|████████████████████████████████████████████████████████████████████████████████████████████████████████████████████████████▊                 | 29/33 [11:55<01:20, 20.24s/it]"
     ]
    },
    {
     "name": "stdout",
     "output_type": "stream",
     "text": [
      "skipped THYM\n",
      "SKCM\n"
     ]
    },
    {
     "name": "stderr",
     "output_type": "stream",
     "text": [
      "\r",
      " 91%|█████████████████████████████████████████████████████████████████████████████████████████████████████████████████████████████████             | 30/33 [12:17<01:01, 20.64s/it]"
     ]
    },
    {
     "name": "stdout",
     "output_type": "stream",
     "text": [
      "skipped SKCM\n",
      "KIRC\n"
     ]
    },
    {
     "name": "stderr",
     "output_type": "stream",
     "text": [
      "\r",
      " 94%|█████████████████████████████████████████████████████████████████████████████████████████████████████████████████████████████████████▍        | 31/33 [13:00<00:54, 27.36s/it]"
     ]
    },
    {
     "name": "stdout",
     "output_type": "stream",
     "text": [
      "CESC\n"
     ]
    },
    {
     "name": "stderr",
     "output_type": "stream",
     "text": [
      "\r",
      " 97%|█████████████████████████████████████████████████████████████████████████████████████████████████████████████████████████████████████████▋    | 32/33 [13:20<00:25, 25.23s/it]"
     ]
    },
    {
     "name": "stdout",
     "output_type": "stream",
     "text": [
      "KICH\n"
     ]
    },
    {
     "name": "stderr",
     "output_type": "stream",
     "text": [
      "100%|██████████████████████████████████████████████████████████████████████████████████████████████████████████████████████████████████████████████| 33/33 [13:28<00:00, 24.49s/it]"
     ]
    },
    {
     "name": "stdout",
     "output_type": "stream",
     "text": [
      "skipped KICH\n"
     ]
    },
    {
     "name": "stderr",
     "output_type": "stream",
     "text": [
      "\n"
     ]
    }
   ],
   "source": [
    "for f in tqdm(glob('/mnt/data/lrebaud/data/TCGA/RNA-seq/*/tpm.csv')):    \n",
    "    ds = f.split('/')[-2]\n",
    "    print(ds)\n",
    "    gene_annotations = pd.read_csv(f.replace('tpm.csv', 'gene_annotations.csv'))\n",
    "    gene_annotations = gene_annotations[gene_annotations['gene_type']=='protein_coding']\n",
    "\n",
    "    tpm = pd.read_csv(f, low_memory=False)\n",
    "    tpm = tpm.T\n",
    "    tpm.columns = tpm.iloc[0]\n",
    "    tpm = tpm.iloc[1:]\n",
    "    tpm = tpm[tpm['Sample Type'].isin(['Primary Tumor', 'Primary Blood Derived Cancer - Peripheral Blood'])]\n",
    "    tpm.set_index('Case ID', inplace=True)\n",
    "    tpm = tpm.drop(columns=['Sample Type'])\n",
    "    tpm = tpm[~tpm.index.duplicated(keep='first')]\n",
    "    assert len(tpm.index.unique()) == len(tpm)\n",
    "    assert len(tpm) > 0\n",
    "\n",
    "    tpm = tpm[gene_annotations['gene_id']]\n",
    "\n",
    "    common_patient = list(set(tpm.index)&set(surv.index))\n",
    "    tpm = tpm.loc[common_patient]\n",
    "    ds_surv = surv.loc[common_patient]\n",
    "    tpm = tpm.astype('float64')\n",
    "    tpm = np.log(tpm+1)\n",
    "    tpm = tpm.loc[:, (tpm != tpm.iloc[0]).any()]  # drop constant columns\n",
    "        \n",
    "    y = Surv.from_arrays(event=np.array(ds_surv['event']).astype('bool'), time=ds_surv['time'])\n",
    "    y_non_censored = y[y['event']]\n",
    "    if y_non_censored.shape[0] < MIN_NB_NON_CENSORED:\n",
    "        print('skipped', ds)\n",
    "        continue\n",
    "\n",
    "    res = {'X': tpm, 'y': y}\n",
    "    \n",
    "    with open('datasets/TCGA_'+ds+'.pickle', 'wb') as handle:\n",
    "        pickle.dump(res, handle, protocol=pickle.HIGHEST_PROTOCOL)"
   ]
  },
  {
   "cell_type": "code",
   "execution_count": null,
   "id": "780c0754",
   "metadata": {},
   "outputs": [],
   "source": []
  }
 ],
 "metadata": {
  "kernelspec": {
   "display_name": "py311",
   "language": "python",
   "name": "py311"
  },
  "language_info": {
   "codemirror_mode": {
    "name": "ipython",
    "version": 3
   },
   "file_extension": ".py",
   "mimetype": "text/x-python",
   "name": "python",
   "nbconvert_exporter": "python",
   "pygments_lexer": "ipython3",
   "version": "3.11.7"
  }
 },
 "nbformat": 4,
 "nbformat_minor": 5
}
