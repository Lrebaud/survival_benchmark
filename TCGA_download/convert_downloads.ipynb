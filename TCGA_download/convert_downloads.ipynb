{
 "cells": [
  {
   "cell_type": "code",
   "execution_count": 12,
   "id": "2d48e040",
   "metadata": {},
   "outputs": [],
   "source": [
    "import argparse\n",
    "import pandas as pd\n",
    "import os\n",
    "from tqdm import tqdm\n",
    "\n",
    "def run_convert(input_folder, output_folder = None):\n",
    "\n",
    "    # Create storage\n",
    "    gene_annotations = None\n",
    "    gene_counts_tpm = []\n",
    "#     gene_counts_fpkm = []\n",
    "#     gene_counts_fpkm_uq = []\n",
    "\n",
    "    # Load patients list\n",
    "    df_patients = None\n",
    "    for file in os.listdir(input_folder):\n",
    "        if file.split('.')[0] == \"gdc_sample_sheet\":\n",
    "            df_patients = pd.read_csv(os.path.join(input_folder, file), sep=\"\\t\").set_index(\"File ID\")\n",
    "            break\n",
    "    assert df_patients is not None, \"'gdc_sample_sheet.tsv' is missing !\"\n",
    "\n",
    "    # Load files list\n",
    "    rna_folder_path  = os.path.join(input_folder, 'RNA-seq')\n",
    "    file_list = os.listdir(rna_folder_path)\n",
    "\n",
    "    # Create output matrices\n",
    "    for case_file in tqdm(df_patients.index, total=len(df_patients.index)):\n",
    "        if case_file in file_list:\n",
    "            case_path = os.path.join(rna_folder_path, case_file)\n",
    "            file_path = None\n",
    "            for f in os.listdir(case_path):\n",
    "                if f.endswith(\".tsv\"):\n",
    "                    file_path = os.path.join(case_path, f)\n",
    "            if file_path is not None:\n",
    "                df_rnaseq = pd.read_csv(file_path, sep=\"\\t\", skiprows=1).iloc[4:, :].set_index(\"gene_id\")\n",
    "                counts_tpm = pd.Series({\"Case ID\": df_patients.loc[case_file, \"Case ID\"] ,\n",
    "                                        \"Sample Type\": df_patients.loc[case_file, \"Sample Type\"]})\n",
    "#                 counts_fpkm = counts_tpm.copy()\n",
    "#                 counts_fpkm_uq = counts_tpm.copy()\n",
    "\n",
    "                counts_tpm = pd.concat([counts_tpm, df_rnaseq[\"tpm_unstranded\"]])\n",
    "#                 counts_fpkm = pd.concat([counts_fpkm, df_rnaseq[\"fpkm_unstranded\"]])\n",
    "#                 counts_fpkm_uq = pd.concat([counts_fpkm_uq, df_rnaseq[\"fpkm_uq_unstranded\"]])\n",
    "\n",
    "                gene_counts_tpm.append(counts_tpm.rename(df_patients.loc[case_file, \"Sample ID\"]))\n",
    "#                 gene_counts_fpkm.append(counts_fpkm.rename(df_patients.loc[case_file, \"Sample ID\"]))\n",
    "#                 gene_counts_fpkm_uq.append(counts_fpkm_uq.rename(df_patients.loc[case_file, \"Sample ID\"]))\n",
    "            else:\n",
    "                print(\n",
    "                    \"RNA-seq data of sample \" + df_patients.loc[ind, \"Sample ID\"] + \" are missing ! Check file \" + ind)\n",
    "        else:\n",
    "            print(\"RNA-seq data of sample \" + df_patients.loc[ind, \"Sample ID\"] + \" are missing ! Check file \" + ind)\n",
    "\n",
    "    gene_counts_tpm = pd.concat(gene_counts_tpm, axis=1)\n",
    "#     gene_counts_fpkm = pd.concat(gene_counts_fpkm, axis=1)\n",
    "#     gene_counts_fpkm_uq = pd.concat(gene_counts_fpkm_uq, axis=1)\n",
    "\n",
    "    # Create annotation matrix\n",
    "    assert file_path is not None, \"No rnaseq file was found, check your folder architecture !\"\n",
    "    gene_annotations = df_rnaseq[['gene_name', 'gene_type']]\n",
    "\n",
    "    # Create output folder\n",
    "    if output_folder is None:\n",
    "        output_folder = os.path.join(input_folder, 'merged_RNAseq')\n",
    "    if not os.path.exists(output_folder):\n",
    "        os.makedirs(output_folder)\n",
    "\n",
    "    gene_counts_tpm.to_csv(os.path.join(output_folder, \"tpm.csv\"))\n",
    "#     gene_counts_fpkm.to_csv(os.path.join(output_folder, \"fpkm.csv\"))\n",
    "#     gene_counts_fpkm_uq.to_csv(os.path.join(output_folder, \"fpkm_uq.csv\"))\n",
    "    gene_annotations.to_csv(os.path.join(output_folder, \"gene_annotations.csv\"))\n",
    "    return\n"
   ]
  },
  {
   "cell_type": "code",
   "execution_count": 17,
   "id": "865cc86f",
   "metadata": {
    "scrolled": true
   },
   "outputs": [
    {
     "name": "stdout",
     "output_type": "stream",
     "text": [
      "/mnt/data/lrebaud/Documents/ICARE_TCGA/download/LGG\n"
     ]
    },
    {
     "name": "stderr",
     "output_type": "stream",
     "text": [
      "100%|████████████████████████████████████████████████████████████████████████████████████████████████████████████████████████████████████████████| 534/534 [03:13<00:00,  2.76it/s]\n"
     ]
    },
    {
     "name": "stdout",
     "output_type": "stream",
     "text": [
      "/mnt/data/lrebaud/Documents/ICARE_TCGA/download/PAAD\n"
     ]
    },
    {
     "name": "stderr",
     "output_type": "stream",
     "text": [
      "100%|████████████████████████████████████████████████████████████████████████████████████████████████████████████████████████████████████████████| 183/183 [01:00<00:00,  3.04it/s]\n"
     ]
    },
    {
     "name": "stdout",
     "output_type": "stream",
     "text": [
      "/mnt/data/lrebaud/Documents/ICARE_TCGA/download/LUAD\n"
     ]
    },
    {
     "name": "stderr",
     "output_type": "stream",
     "text": [
      "100%|████████████████████████████████████████████████████████████████████████████████████████████████████████████████████████████████████████████| 600/600 [03:42<00:00,  2.70it/s]\n"
     ]
    },
    {
     "name": "stdout",
     "output_type": "stream",
     "text": [
      "/mnt/data/lrebaud/Documents/ICARE_TCGA/download/ESCA\n"
     ]
    },
    {
     "name": "stderr",
     "output_type": "stream",
     "text": [
      "100%|████████████████████████████████████████████████████████████████████████████████████████████████████████████████████████████████████████████| 198/198 [01:14<00:00,  2.66it/s]\n"
     ]
    },
    {
     "name": "stdout",
     "output_type": "stream",
     "text": [
      "/mnt/data/lrebaud/Documents/ICARE_TCGA/download/BLCA\n"
     ]
    },
    {
     "name": "stderr",
     "output_type": "stream",
     "text": [
      "100%|████████████████████████████████████████████████████████████████████████████████████████████████████████████████████████████████████████████| 431/431 [02:41<00:00,  2.68it/s]\n"
     ]
    },
    {
     "name": "stdout",
     "output_type": "stream",
     "text": [
      "/mnt/data/lrebaud/Documents/ICARE_TCGA/download/MESO\n"
     ]
    },
    {
     "name": "stderr",
     "output_type": "stream",
     "text": [
      "100%|██████████████████████████████████████████████████████████████████████████████████████████████████████████████████████████████████████████████| 87/87 [00:29<00:00,  2.92it/s]\n"
     ]
    },
    {
     "name": "stdout",
     "output_type": "stream",
     "text": [
      "/mnt/data/lrebaud/Documents/ICARE_TCGA/download/KIRP\n"
     ]
    },
    {
     "name": "stderr",
     "output_type": "stream",
     "text": [
      "100%|████████████████████████████████████████████████████████████████████████████████████████████████████████████████████████████████████████████| 323/323 [01:54<00:00,  2.83it/s]\n"
     ]
    },
    {
     "name": "stdout",
     "output_type": "stream",
     "text": [
      "/mnt/data/lrebaud/Documents/ICARE_TCGA/download/GBM\n"
     ]
    },
    {
     "name": "stderr",
     "output_type": "stream",
     "text": [
      "100%|████████████████████████████████████████████████████████████████████████████████████████████████████████████████████████████████████████████| 175/175 [01:01<00:00,  2.85it/s]\n"
     ]
    },
    {
     "name": "stdout",
     "output_type": "stream",
     "text": [
      "/mnt/data/lrebaud/Documents/ICARE_TCGA/download/PCPG\n"
     ]
    },
    {
     "name": "stderr",
     "output_type": "stream",
     "text": [
      "100%|████████████████████████████████████████████████████████████████████████████████████████████████████████████████████████████████████████████| 187/187 [01:13<00:00,  2.56it/s]\n"
     ]
    },
    {
     "name": "stdout",
     "output_type": "stream",
     "text": [
      "/mnt/data/lrebaud/Documents/ICARE_TCGA/download/UCEC\n"
     ]
    },
    {
     "name": "stderr",
     "output_type": "stream",
     "text": [
      "100%|████████████████████████████████████████████████████████████████████████████████████████████████████████████████████████████████████████████| 589/589 [03:12<00:00,  3.07it/s]\n"
     ]
    },
    {
     "name": "stdout",
     "output_type": "stream",
     "text": [
      "/mnt/data/lrebaud/Documents/ICARE_TCGA/download/LIHC\n"
     ]
    },
    {
     "name": "stderr",
     "output_type": "stream",
     "text": [
      "100%|████████████████████████████████████████████████████████████████████████████████████████████████████████████████████████████████████████████| 424/424 [02:23<00:00,  2.95it/s]\n"
     ]
    },
    {
     "name": "stdout",
     "output_type": "stream",
     "text": [
      "/mnt/data/lrebaud/Documents/ICARE_TCGA/download/READ\n"
     ]
    },
    {
     "name": "stderr",
     "output_type": "stream",
     "text": [
      "100%|████████████████████████████████████████████████████████████████████████████████████████████████████████████████████████████████████████████| 177/177 [01:07<00:00,  2.61it/s]\n"
     ]
    },
    {
     "name": "stdout",
     "output_type": "stream",
     "text": [
      "/mnt/data/lrebaud/Documents/ICARE_TCGA/download/THCA\n"
     ]
    },
    {
     "name": "stderr",
     "output_type": "stream",
     "text": [
      " 42%|██████████████████████████████████████████████████████████▉                                                                                 | 241/572 [01:24<01:44,  3.15it/s]"
     ]
    },
    {
     "name": "stdout",
     "output_type": "stream",
     "text": [
      "/mnt/data/lrebaud/Documents/ICARE_TCGA/download/ACC\n"
     ]
    },
    {
     "name": "stderr",
     "output_type": "stream",
     "text": [
      "100%|██████████████████████████████████████████████████████████████████████████████████████████████████████████████████████████████████████████████| 79/79 [00:31<00:00,  2.54it/s]\n"
     ]
    },
    {
     "name": "stdout",
     "output_type": "stream",
     "text": [
      "/mnt/data/lrebaud/Documents/ICARE_TCGA/download/BRCA\n"
     ]
    },
    {
     "name": "stderr",
     "output_type": "stream",
     "text": [
      "100%|██████████████████████████████████████████████████████████████████████████████████████████████████████████████████████████████████████████| 1231/1231 [07:08<00:00,  2.87it/s]\n"
     ]
    },
    {
     "name": "stdout",
     "output_type": "stream",
     "text": [
      "/mnt/data/lrebaud/Documents/ICARE_TCGA/download/SARC\n"
     ]
    },
    {
     "name": "stderr",
     "output_type": "stream",
     "text": [
      "100%|████████████████████████████████████████████████████████████████████████████████████████████████████████████████████████████████████████████| 265/265 [01:32<00:00,  2.88it/s]\n"
     ]
    },
    {
     "name": "stdout",
     "output_type": "stream",
     "text": [
      "/mnt/data/lrebaud/Documents/ICARE_TCGA/download/OV\n"
     ]
    },
    {
     "name": "stderr",
     "output_type": "stream",
     "text": [
      "100%|████████████████████████████████████████████████████████████████████████████████████████████████████████████████████████████████████████████| 429/429 [02:41<00:00,  2.65it/s]\n"
     ]
    },
    {
     "name": "stdout",
     "output_type": "stream",
     "text": [
      "/mnt/data/lrebaud/Documents/ICARE_TCGA/download/CHOL\n"
     ]
    },
    {
     "name": "stderr",
     "output_type": "stream",
     "text": [
      "100%|██████████████████████████████████████████████████████████████████████████████████████████████████████████████████████████████████████████████| 44/44 [00:15<00:00,  2.89it/s]\n"
     ]
    },
    {
     "name": "stdout",
     "output_type": "stream",
     "text": [
      "/mnt/data/lrebaud/Documents/ICARE_TCGA/download/THYM\n"
     ]
    },
    {
     "name": "stderr",
     "output_type": "stream",
     "text": [
      "100%|████████████████████████████████████████████████████████████████████████████████████████████████████████████████████████████████████████████| 122/122 [00:45<00:00,  2.70it/s]\n"
     ]
    },
    {
     "name": "stdout",
     "output_type": "stream",
     "text": [
      "/mnt/data/lrebaud/Documents/ICARE_TCGA/download/SKCM\n"
     ]
    },
    {
     "name": "stderr",
     "output_type": "stream",
     "text": [
      "100%|████████████████████████████████████████████████████████████████████████████████████████████████████████████████████████████████████████████| 473/473 [02:46<00:00,  2.85it/s]\n"
     ]
    },
    {
     "name": "stdout",
     "output_type": "stream",
     "text": [
      "/mnt/data/lrebaud/Documents/ICARE_TCGA/download/KIRC\n"
     ]
    },
    {
     "name": "stderr",
     "output_type": "stream",
     "text": [
      " 53%|██████████████████████████████████████████████████████████████████████████▌                                                                 | 327/614 [01:57<01:47,  2.67it/s]IOPub message rate exceeded.\n",
      "The notebook server will temporarily stop sending output\n",
      "to the client in order to avoid crashing it.\n",
      "To change this limit, set the config variable\n",
      "`--NotebookApp.iopub_msg_rate_limit`.\n",
      "\n",
      "Current values:\n",
      "NotebookApp.iopub_msg_rate_limit=1000.0 (msgs/sec)\n",
      "NotebookApp.rate_limit_window=3.0 (secs)\n",
      "\n"
     ]
    }
   ],
   "source": [
    "from glob import glob\n",
    "for f in glob('/mnt/data/lrebaud/Documents/ICARE_TCGA/download/*'):\n",
    "    if os.path.isfile(f+'/merged_RNAseq/tpm.csv'):\n",
    "        continue\n",
    "    print(f)\n",
    "    run_convert(f)"
   ]
  },
  {
   "cell_type": "code",
   "execution_count": 28,
   "id": "e276fb21",
   "metadata": {},
   "outputs": [
    {
     "name": "stderr",
     "output_type": "stream",
     "text": [
      "\r",
      "  0%|                                                                                                                                                       | 0/33 [00:00<?, ?it/s]"
     ]
    },
    {
     "name": "stdout",
     "output_type": "stream",
     "text": [
      "/mnt/data/lrebaud/Documents/ICARE_TCGA/download/HNSC\n"
     ]
    },
    {
     "name": "stderr",
     "output_type": "stream",
     "text": [
      "\r",
      "  3%|████▎                                                                                                                                          | 1/33 [00:27<14:55, 27.99s/it]"
     ]
    },
    {
     "name": "stdout",
     "output_type": "stream",
     "text": [
      "/mnt/data/lrebaud/Documents/ICARE_TCGA/download/DLBC\n"
     ]
    },
    {
     "name": "stderr",
     "output_type": "stream",
     "text": [
      "\r",
      "  6%|████████▋                                                                                                                                      | 2/33 [00:30<06:47, 13.14s/it]"
     ]
    },
    {
     "name": "stdout",
     "output_type": "stream",
     "text": [
      "/mnt/data/lrebaud/Documents/ICARE_TCGA/download/PRAD\n"
     ]
    },
    {
     "name": "stderr",
     "output_type": "stream",
     "text": [
      "\r",
      "  9%|█████████████                                                                                                                                  | 3/33 [00:55<09:11, 18.37s/it]"
     ]
    },
    {
     "name": "stdout",
     "output_type": "stream",
     "text": [
      "/mnt/data/lrebaud/Documents/ICARE_TCGA/download/UVM\n"
     ]
    },
    {
     "name": "stderr",
     "output_type": "stream",
     "text": [
      "\r",
      " 12%|█████████████████▎                                                                                                                             | 4/33 [01:03<07:01, 14.53s/it]"
     ]
    },
    {
     "name": "stdout",
     "output_type": "stream",
     "text": [
      "/mnt/data/lrebaud/Documents/ICARE_TCGA/download/LUSC\n"
     ]
    },
    {
     "name": "stderr",
     "output_type": "stream",
     "text": [
      "\r",
      " 15%|█████████████████████▋                                                                                                                         | 5/33 [01:33<09:15, 19.86s/it]"
     ]
    },
    {
     "name": "stdout",
     "output_type": "stream",
     "text": [
      "/mnt/data/lrebaud/Documents/ICARE_TCGA/download/COAD\n"
     ]
    },
    {
     "name": "stderr",
     "output_type": "stream",
     "text": [
      "\r",
      " 18%|██████████████████████████                                                                                                                     | 6/33 [01:52<08:50, 19.64s/it]"
     ]
    },
    {
     "name": "stdout",
     "output_type": "stream",
     "text": [
      "/mnt/data/lrebaud/Documents/ICARE_TCGA/download/UCS\n"
     ]
    },
    {
     "name": "stderr",
     "output_type": "stream",
     "text": [
      "\r",
      " 21%|██████████████████████████████▎                                                                                                                | 7/33 [01:54<05:59, 13.84s/it]"
     ]
    },
    {
     "name": "stdout",
     "output_type": "stream",
     "text": [
      "/mnt/data/lrebaud/Documents/ICARE_TCGA/download/TGCT\n"
     ]
    },
    {
     "name": "stderr",
     "output_type": "stream",
     "text": [
      "\r",
      " 24%|██████████████████████████████████▋                                                                                                            | 8/33 [02:01<04:54, 11.77s/it]"
     ]
    },
    {
     "name": "stdout",
     "output_type": "stream",
     "text": [
      "/mnt/data/lrebaud/Documents/ICARE_TCGA/download/STAD\n"
     ]
    },
    {
     "name": "stderr",
     "output_type": "stream",
     "text": [
      "\r",
      " 27%|███████████████████████████████████████                                                                                                        | 9/33 [02:30<06:52, 17.17s/it]"
     ]
    },
    {
     "name": "stdout",
     "output_type": "stream",
     "text": [
      "/mnt/data/lrebaud/Documents/ICARE_TCGA/download/LAML\n"
     ]
    },
    {
     "name": "stderr",
     "output_type": "stream",
     "text": [
      "\r",
      " 30%|███████████████████████████████████████████                                                                                                   | 10/33 [02:38<05:25, 14.15s/it]"
     ]
    },
    {
     "name": "stdout",
     "output_type": "stream",
     "text": [
      "/mnt/data/lrebaud/Documents/ICARE_TCGA/download/LGG\n"
     ]
    },
    {
     "name": "stderr",
     "output_type": "stream",
     "text": [
      "\r",
      " 33%|███████████████████████████████████████████████▎                                                                                              | 11/33 [02:59<05:57, 16.24s/it]"
     ]
    },
    {
     "name": "stdout",
     "output_type": "stream",
     "text": [
      "/mnt/data/lrebaud/Documents/ICARE_TCGA/download/PAAD\n"
     ]
    },
    {
     "name": "stderr",
     "output_type": "stream",
     "text": [
      "\r",
      " 36%|███████████████████████████████████████████████████▋                                                                                          | 12/33 [03:05<04:35, 13.12s/it]"
     ]
    },
    {
     "name": "stdout",
     "output_type": "stream",
     "text": [
      "/mnt/data/lrebaud/Documents/ICARE_TCGA/download/LUAD\n"
     ]
    },
    {
     "name": "stderr",
     "output_type": "stream",
     "text": [
      "\r",
      " 39%|███████████████████████████████████████████████████████▉                                                                                      | 13/33 [03:33<05:56, 17.83s/it]"
     ]
    },
    {
     "name": "stdout",
     "output_type": "stream",
     "text": [
      "/mnt/data/lrebaud/Documents/ICARE_TCGA/download/ESCA\n"
     ]
    },
    {
     "name": "stderr",
     "output_type": "stream",
     "text": [
      "\r",
      " 42%|████████████████████████████████████████████████████████████▏                                                                                 | 14/33 [03:49<05:27, 17.22s/it]"
     ]
    },
    {
     "name": "stdout",
     "output_type": "stream",
     "text": [
      "/mnt/data/lrebaud/Documents/ICARE_TCGA/download/BLCA\n"
     ]
    },
    {
     "name": "stderr",
     "output_type": "stream",
     "text": [
      "\r",
      " 45%|████████████████████████████████████████████████████████████████▌                                                                             | 15/33 [04:03<04:50, 16.12s/it]"
     ]
    },
    {
     "name": "stdout",
     "output_type": "stream",
     "text": [
      "/mnt/data/lrebaud/Documents/ICARE_TCGA/download/MESO\n"
     ]
    },
    {
     "name": "stderr",
     "output_type": "stream",
     "text": [
      "\r",
      " 48%|████████████████████████████████████████████████████████████████████▊                                                                         | 16/33 [04:06<03:30, 12.38s/it]"
     ]
    },
    {
     "name": "stdout",
     "output_type": "stream",
     "text": [
      "/mnt/data/lrebaud/Documents/ICARE_TCGA/download/KIRP\n"
     ]
    },
    {
     "name": "stderr",
     "output_type": "stream",
     "text": [
      "\r",
      " 52%|█████████████████████████████████████████████████████████████████████████▏                                                                    | 17/33 [04:19<03:19, 12.48s/it]"
     ]
    },
    {
     "name": "stdout",
     "output_type": "stream",
     "text": [
      "/mnt/data/lrebaud/Documents/ICARE_TCGA/download/GBM\n"
     ]
    },
    {
     "name": "stderr",
     "output_type": "stream",
     "text": [
      "\r",
      " 55%|█████████████████████████████████████████████████████████████████████████████▍                                                                | 18/33 [04:27<02:47, 11.19s/it]"
     ]
    },
    {
     "name": "stdout",
     "output_type": "stream",
     "text": [
      "/mnt/data/lrebaud/Documents/ICARE_TCGA/download/PCPG\n"
     ]
    },
    {
     "name": "stderr",
     "output_type": "stream",
     "text": [
      "\r",
      " 58%|█████████████████████████████████████████████████████████████████████████████████▊                                                            | 19/33 [04:34<02:17,  9.82s/it]"
     ]
    },
    {
     "name": "stdout",
     "output_type": "stream",
     "text": [
      "/mnt/data/lrebaud/Documents/ICARE_TCGA/download/UCEC\n"
     ]
    },
    {
     "name": "stderr",
     "output_type": "stream",
     "text": [
      "\r",
      " 61%|██████████████████████████████████████████████████████████████████████████████████████                                                        | 20/33 [05:09<03:45, 17.32s/it]"
     ]
    },
    {
     "name": "stdout",
     "output_type": "stream",
     "text": [
      "/mnt/data/lrebaud/Documents/ICARE_TCGA/download/LIHC\n"
     ]
    },
    {
     "name": "stderr",
     "output_type": "stream",
     "text": [
      "\r",
      " 64%|██████████████████████████████████████████████████████████████████████████████████████████▎                                                   | 21/33 [05:24<03:20, 16.67s/it]"
     ]
    },
    {
     "name": "stdout",
     "output_type": "stream",
     "text": [
      "/mnt/data/lrebaud/Documents/ICARE_TCGA/download/READ\n"
     ]
    },
    {
     "name": "stderr",
     "output_type": "stream",
     "text": [
      "\r",
      " 67%|██████████████████████████████████████████████████████████████████████████████████████████████▋                                               | 22/33 [05:30<02:29, 13.59s/it]"
     ]
    },
    {
     "name": "stdout",
     "output_type": "stream",
     "text": [
      "/mnt/data/lrebaud/Documents/ICARE_TCGA/download/THCA\n"
     ]
    },
    {
     "name": "stderr",
     "output_type": "stream",
     "text": [
      "\r",
      " 70%|██████████████████████████████████████████████████████████████████████████████████████████████████▉                                           | 23/33 [05:56<02:52, 17.26s/it]"
     ]
    },
    {
     "name": "stdout",
     "output_type": "stream",
     "text": [
      "/mnt/data/lrebaud/Documents/ICARE_TCGA/download/ACC\n"
     ]
    },
    {
     "name": "stderr",
     "output_type": "stream",
     "text": [
      "\r",
      " 73%|███████████████████████████████████████████████████████████████████████████████████████████████████████▎                                      | 24/33 [06:00<01:58, 13.18s/it]"
     ]
    },
    {
     "name": "stdout",
     "output_type": "stream",
     "text": [
      "/mnt/data/lrebaud/Documents/ICARE_TCGA/download/BRCA\n"
     ]
    },
    {
     "name": "stderr",
     "output_type": "stream",
     "text": [
      "\r",
      " 76%|███████████████████████████████████████████████████████████████████████████████████████████████████████████▌                                  | 25/33 [06:50<03:15, 24.39s/it]"
     ]
    },
    {
     "name": "stdout",
     "output_type": "stream",
     "text": [
      "/mnt/data/lrebaud/Documents/ICARE_TCGA/download/SARC\n"
     ]
    },
    {
     "name": "stderr",
     "output_type": "stream",
     "text": [
      "\r",
      " 79%|███████████████████████████████████████████████████████████████████████████████████████████████████████████████▉                              | 26/33 [07:03<02:25, 20.85s/it]"
     ]
    },
    {
     "name": "stdout",
     "output_type": "stream",
     "text": [
      "/mnt/data/lrebaud/Documents/ICARE_TCGA/download/OV\n"
     ]
    },
    {
     "name": "stderr",
     "output_type": "stream",
     "text": [
      "\r",
      " 82%|████████████████████████████████████████████████████████████████████████████████████████████████████████████████████▏                         | 27/33 [07:35<02:25, 24.19s/it]"
     ]
    },
    {
     "name": "stdout",
     "output_type": "stream",
     "text": [
      "/mnt/data/lrebaud/Documents/ICARE_TCGA/download/CHOL\n"
     ]
    },
    {
     "name": "stderr",
     "output_type": "stream",
     "text": [
      "\r",
      " 85%|████████████████████████████████████████████████████████████████████████████████████████████████████████████████████████▍                     | 28/33 [07:37<01:27, 17.55s/it]"
     ]
    },
    {
     "name": "stdout",
     "output_type": "stream",
     "text": [
      "/mnt/data/lrebaud/Documents/ICARE_TCGA/download/THYM\n"
     ]
    },
    {
     "name": "stderr",
     "output_type": "stream",
     "text": [
      "\r",
      " 88%|████████████████████████████████████████████████████████████████████████████████████████████████████████████████████████████▊                 | 29/33 [07:42<00:55, 13.81s/it]"
     ]
    },
    {
     "name": "stdout",
     "output_type": "stream",
     "text": [
      "/mnt/data/lrebaud/Documents/ICARE_TCGA/download/SKCM\n"
     ]
    },
    {
     "name": "stderr",
     "output_type": "stream",
     "text": [
      "\r",
      " 91%|█████████████████████████████████████████████████████████████████████████████████████████████████████████████████████████████████             | 30/33 [08:06<00:50, 16.90s/it]"
     ]
    },
    {
     "name": "stdout",
     "output_type": "stream",
     "text": [
      "/mnt/data/lrebaud/Documents/ICARE_TCGA/download/KIRC\n"
     ]
    },
    {
     "name": "stderr",
     "output_type": "stream",
     "text": [
      "\r",
      " 94%|█████████████████████████████████████████████████████████████████████████████████████████████████████████████████████████████████████▍        | 31/33 [08:37<00:42, 21.08s/it]"
     ]
    },
    {
     "name": "stdout",
     "output_type": "stream",
     "text": [
      "/mnt/data/lrebaud/Documents/ICARE_TCGA/download/CESC\n"
     ]
    },
    {
     "name": "stderr",
     "output_type": "stream",
     "text": [
      "\r",
      " 97%|█████████████████████████████████████████████████████████████████████████████████████████████████████████████████████████████████████████▋    | 32/33 [08:54<00:20, 20.02s/it]"
     ]
    },
    {
     "name": "stdout",
     "output_type": "stream",
     "text": [
      "/mnt/data/lrebaud/Documents/ICARE_TCGA/download/KICH\n"
     ]
    },
    {
     "name": "stderr",
     "output_type": "stream",
     "text": [
      "100%|██████████████████████████████████████████████████████████████████████████████████████████████████████████████████████████████████████████████| 33/33 [08:58<00:00, 16.31s/it]\n"
     ]
    }
   ],
   "source": [
    "import shutil\n",
    "\n",
    "\n",
    "for f in tqdm(glob('/mnt/data/lrebaud/Documents/ICARE_TCGA/download/*')):\n",
    "    print(f)\n",
    "    d = f.split('/')[-1]\n",
    "    path_new = '/mnt/data/lrebaud/data/TCGA/RNA-seq/'+d+'/'\n",
    "    try:\n",
    "        os.mkdir(path_new)\n",
    "    except:\n",
    "        pass\n",
    "    shutil.copyfile(f+'/merged_RNAseq/tpm.csv', path_new+'tpm.csv')\n",
    "    shutil.copyfile(f+'/merged_RNAseq/gene_annotations.csv', path_new+'gene_annotations.csv')"
   ]
  },
  {
   "cell_type": "code",
   "execution_count": null,
   "id": "16927784",
   "metadata": {},
   "outputs": [],
   "source": []
  }
 ],
 "metadata": {
  "kernelspec": {
   "display_name": "py311",
   "language": "python",
   "name": "py311"
  },
  "language_info": {
   "codemirror_mode": {
    "name": "ipython",
    "version": 3
   },
   "file_extension": ".py",
   "mimetype": "text/x-python",
   "name": "python",
   "nbconvert_exporter": "python",
   "pygments_lexer": "ipython3",
   "version": "3.11.3"
  }
 },
 "nbformat": 4,
 "nbformat_minor": 5
}
